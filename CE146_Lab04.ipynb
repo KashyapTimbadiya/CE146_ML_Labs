{
  "nbformat": 4,
  "nbformat_minor": 0,
  "metadata": {
    "colab": {
      "provenance": [],
      "include_colab_link": true
    },
    "kernelspec": {
      "name": "python3",
      "display_name": "Python 3"
    },
    "language_info": {
      "name": "python"
    }
  },
  "cells": [
    {
      "cell_type": "markdown",
      "metadata": {
        "id": "view-in-github",
        "colab_type": "text"
      },
      "source": [
        "<a href=\"https://colab.research.google.com/github/KashyapTimbadiya/CE146_ML_Labs/blob/main/ML_Lab04.ipynb\" target=\"_parent\"><img src=\"https://colab.research.google.com/assets/colab-badge.svg\" alt=\"Open In Colab\"/></a>"
      ]
    },
    {
      "cell_type": "markdown",
      "source": [
        "# **3.1 Problem Statement**\n",
        "\n",
        "We’ll create a model that predicts crop yeilds for apples (target variable) by looking at the average tempera-\n",
        "ture, rainfall and humidity (input variables or features) in different regions."
      ],
      "metadata": {
        "id": "SPMWlXeA8HhS"
      }
    },
    {
      "cell_type": "code",
      "execution_count": null,
      "metadata": {
        "id": "W9F9ugW3vtrc"
      },
      "outputs": [],
      "source": [
        "import numpy as np\n",
        "import torch\n",
        "# Input (temp, rainfall, humidity)\n",
        "inputs = np.array([[70, 34, 45], \n",
        "                   [91, 88, 64], \n",
        "                   [87, 134, 58], \n",
        "                   [102, 43, 37], \n",
        "                   [69, 96, 70]], dtype='float32')"
      ]
    },
    {
      "cell_type": "code",
      "source": [
        "# Targets (apples)\n",
        "targets = np.array([[56], \n",
        "                    [81], \n",
        "                    [119], \n",
        "                    [22], \n",
        "                    [103]], dtype='float32')"
      ],
      "metadata": {
        "id": "jqfYvnh5xkzE"
      },
      "execution_count": null,
      "outputs": []
    },
    {
      "cell_type": "markdown",
      "source": [],
      "metadata": {
        "id": "_QkA35as8tcF"
      }
    },
    {
      "cell_type": "code",
      "source": [
        "inputs = torch.from_numpy(inputs)\n",
        "targets = torch.from_numpy(targets)\n",
        "print(inputs)\n",
        "print(targets)"
      ],
      "metadata": {
        "colab": {
          "base_uri": "https://localhost:8080/"
        },
        "id": "XgsMWaor0FZa",
        "outputId": "8af12a71-3462-49fe-dee1-af3935317c6f"
      },
      "execution_count": null,
      "outputs": [
        {
          "output_type": "stream",
          "name": "stdout",
          "text": [
            "tensor([[ 70.,  34.,  45.],\n",
            "        [ 91.,  88.,  64.],\n",
            "        [ 87., 134.,  58.],\n",
            "        [102.,  43.,  37.],\n",
            "        [ 69.,  96.,  70.]])\n",
            "tensor([[ 56.],\n",
            "        [ 81.],\n",
            "        [119.],\n",
            "        [ 22.],\n",
            "        [103.]])\n"
          ]
        }
      ]
    },
    {
      "cell_type": "markdown",
      "source": [
        "# Convert inputs and targets to tensors\n",
        "inputs = torch.from_numpy(inputs)\n",
        "targets = torch.from_numpy(targets)\n",
        "print(inputs)\n",
        "print(targets)"
      ],
      "metadata": {
        "id": "mJ5Z5D86x0Fs"
      }
    },
    {
      "cell_type": "markdown",
      "source": [
        "# **3.2 Linear Regression Model (from scratch)**"
      ],
      "metadata": {
        "id": "hnGcHPws8Ymr"
      }
    },
    {
      "cell_type": "code",
      "source": [
        "# Weights and biases\n",
        "w = torch.randn(3, 1, requires_grad=True)\n",
        "b = torch.randn(1, requires_grad=True)\n",
        "print(w)\n",
        "print(b)"
      ],
      "metadata": {
        "colab": {
          "base_uri": "https://localhost:8080/"
        },
        "id": "5CZ5j6c51XKT",
        "outputId": "1d5aa106-9f8b-43c2-f26d-fa082c0d4f86"
      },
      "execution_count": null,
      "outputs": [
        {
          "output_type": "stream",
          "name": "stdout",
          "text": [
            "tensor([[ 0.2112],\n",
            "        [ 0.6363],\n",
            "        [-0.2283]], requires_grad=True)\n",
            "tensor([0.4628], requires_grad=True)\n"
          ]
        }
      ]
    },
    {
      "cell_type": "code",
      "source": [
        "# Define the model\n",
        "def model(x):\n",
        "    return x @ w + b"
      ],
      "metadata": {
        "id": "R9xZ3Sic1f5U"
      },
      "execution_count": null,
      "outputs": []
    },
    {
      "cell_type": "code",
      "source": [
        "# Generate predictions\n",
        "preds = model(inputs)\n",
        "print(preds)"
      ],
      "metadata": {
        "colab": {
          "base_uri": "https://localhost:8080/"
        },
        "id": "OrSaKiEs1nMV",
        "outputId": "c08a0977-3329-4640-ccda-12556e8cc648"
      },
      "execution_count": null,
      "outputs": [
        {
          "output_type": "stream",
          "name": "stdout",
          "text": [
            "tensor([[26.6090],\n",
            "        [61.0686],\n",
            "        [90.8648],\n",
            "        [40.9207],\n",
            "        [60.1430]], grad_fn=<AddBackward0>)\n"
          ]
        }
      ]
    },
    {
      "cell_type": "code",
      "source": [
        "# Compare with targets\n",
        "print(targets)"
      ],
      "metadata": {
        "colab": {
          "base_uri": "https://localhost:8080/"
        },
        "id": "1DKvs8BZ1u6M",
        "outputId": "831850a8-0d66-4a13-8459-399c96f5e017"
      },
      "execution_count": null,
      "outputs": [
        {
          "output_type": "stream",
          "name": "stdout",
          "text": [
            "tensor([[ 56.],\n",
            "        [ 81.],\n",
            "        [119.],\n",
            "        [ 22.],\n",
            "        [103.]])\n"
          ]
        }
      ]
    },
    {
      "cell_type": "markdown",
      "source": [
        "# **3.3 Loss Function**"
      ],
      "metadata": {
        "id": "5DeVc3Gy8gk7"
      }
    },
    {
      "cell_type": "code",
      "source": [
        "# MSE loss\n",
        "def mse(t1, t2):\n",
        "    diff = t1 - t2\n",
        "    return torch.sum(diff * diff) / diff.numel()"
      ],
      "metadata": {
        "id": "PEtmUA0M2Ln8"
      },
      "execution_count": null,
      "outputs": []
    },
    {
      "cell_type": "code",
      "source": [
        "# Compute loss\n",
        "loss = mse(preds, targets)\n",
        "print(loss)"
      ],
      "metadata": {
        "colab": {
          "base_uri": "https://localhost:8080/"
        },
        "id": "37fEsQeN2Osb",
        "outputId": "59981bb9-588c-44f2-acf1-c81af87889ae"
      },
      "execution_count": null,
      "outputs": [
        {
          "output_type": "stream",
          "name": "stdout",
          "text": [
            "tensor(849.4793, grad_fn=<DivBackward0>)\n"
          ]
        }
      ]
    },
    {
      "cell_type": "code",
      "source": [
        "# Compute gradients\n",
        "loss.backward(retain_graph=True)"
      ],
      "metadata": {
        "id": "ys32xmN52TyC"
      },
      "execution_count": null,
      "outputs": []
    },
    {
      "cell_type": "markdown",
      "source": [
        "# **3.4 Compute Gradients**"
      ],
      "metadata": {
        "id": "cBOCDAyy8n9p"
      }
    },
    {
      "cell_type": "code",
      "source": [
        "# Gradients for weights\n",
        "print(w)\n",
        "print(w.grad)"
      ],
      "metadata": {
        "colab": {
          "base_uri": "https://localhost:8080/"
        },
        "id": "Lf8AiN-32YPK",
        "outputId": "d205acc3-5a64-4de5-ea7c-e3ee1598b78b"
      },
      "execution_count": null,
      "outputs": [
        {
          "output_type": "stream",
          "name": "stdout",
          "text": [
            "tensor([[ 0.2112],\n",
            "        [ 0.6363],\n",
            "        [-0.2283]], requires_grad=True)\n",
            "tensor([[-2938.4434],\n",
            "        [-3929.6216],\n",
            "        [-2611.9875]])\n"
          ]
        }
      ]
    },
    {
      "cell_type": "code",
      "source": [
        "w.grad.zero_()\n",
        "b.grad.zero_()\n",
        "print(w.grad)\n",
        "print(b.grad)"
      ],
      "metadata": {
        "colab": {
          "base_uri": "https://localhost:8080/"
        },
        "id": "p6a6ktPT3fdy",
        "outputId": "afea7571-6813-4fb7-8904-7aab728f382a"
      },
      "execution_count": null,
      "outputs": [
        {
          "output_type": "stream",
          "name": "stdout",
          "text": [
            "tensor([[0.],\n",
            "        [0.],\n",
            "        [0.]])\n",
            "tensor([0.])\n"
          ]
        }
      ]
    },
    {
      "cell_type": "markdown",
      "source": [
        "# **3.5 Adjust weights and biases using gradient descent**"
      ],
      "metadata": {
        "id": "oTMe4O528zwR"
      }
    },
    {
      "cell_type": "code",
      "source": [
        "# Generate predictions\n",
        "preds = model(inputs)\n",
        "print(preds)"
      ],
      "metadata": {
        "colab": {
          "base_uri": "https://localhost:8080/"
        },
        "id": "tg9JMAi13jEq",
        "outputId": "1996c879-7dec-4ebd-effb-5532ed0b042e"
      },
      "execution_count": null,
      "outputs": [
        {
          "output_type": "stream",
          "name": "stdout",
          "text": [
            "tensor([[26.6090],\n",
            "        [61.0686],\n",
            "        [90.8648],\n",
            "        [40.9207],\n",
            "        [60.1430]], grad_fn=<AddBackward0>)\n"
          ]
        }
      ]
    },
    {
      "cell_type": "code",
      "source": [
        "# Calculate the loss\n",
        "loss = mse(preds, targets)\n",
        "print(loss)"
      ],
      "metadata": {
        "colab": {
          "base_uri": "https://localhost:8080/"
        },
        "id": "58Jipg_D3nlL",
        "outputId": "f2cf34b7-b4b4-44b0-ea5d-cbbfc338ac76"
      },
      "execution_count": null,
      "outputs": [
        {
          "output_type": "stream",
          "name": "stdout",
          "text": [
            "tensor(849.4793, grad_fn=<DivBackward0>)\n"
          ]
        }
      ]
    },
    {
      "cell_type": "code",
      "source": [
        "# Compute gradients\n",
        "loss.backward()\n",
        "print(w.grad)\n",
        "print(b.grad)"
      ],
      "metadata": {
        "colab": {
          "base_uri": "https://localhost:8080/"
        },
        "id": "4kEf8WzR3rQ6",
        "outputId": "b3217eb4-a651-40af-a1bc-49648fa82710"
      },
      "execution_count": null,
      "outputs": [
        {
          "output_type": "stream",
          "name": "stdout",
          "text": [
            "tensor([[-2938.4434],\n",
            "        [-3929.6216],\n",
            "        [-2611.9875]])\n",
            "tensor([-40.5575])\n"
          ]
        }
      ]
    },
    {
      "cell_type": "code",
      "source": [
        "# Adjust weights & reset gradients\n",
        "# alpha = 1e-5 / 0.1/0.0000001\n",
        "with torch.no_grad():\n",
        "    w -= w.grad * 1e-5\n",
        "    b -= b.grad * 1e-5\n",
        "    w.grad.zero_()\n",
        "    b.grad.zero_()"
      ],
      "metadata": {
        "id": "GVYt5Ns93wha"
      },
      "execution_count": null,
      "outputs": []
    },
    {
      "cell_type": "code",
      "source": [
        "print(w)\n",
        "print(b)"
      ],
      "metadata": {
        "colab": {
          "base_uri": "https://localhost:8080/"
        },
        "id": "Ujuqtduy39rB",
        "outputId": "73b5c94a-ffb5-495e-8cef-4474f0b398d0"
      },
      "execution_count": null,
      "outputs": [
        {
          "output_type": "stream",
          "name": "stdout",
          "text": [
            "tensor([[ 0.2406],\n",
            "        [ 0.6756],\n",
            "        [-0.2022]], requires_grad=True)\n",
            "tensor([0.4632], requires_grad=True)\n"
          ]
        }
      ]
    },
    {
      "cell_type": "code",
      "source": [
        "# Calculate loss\n",
        "preds = model(inputs)\n",
        "loss = mse(preds, targets)\n",
        "print(loss)\n",
        "print(preds)"
      ],
      "metadata": {
        "colab": {
          "base_uri": "https://localhost:8080/"
        },
        "id": "0I_BsZJk4D3q",
        "outputId": "d4365111-fa75-4ae1-ad61-0ea985e92816"
      },
      "execution_count": null,
      "outputs": [
        {
          "output_type": "stream",
          "name": "stdout",
          "text": [
            "tensor(592.3004, grad_fn=<DivBackward0>)\n",
            "tensor([[ 31.1778],\n",
            "        [ 68.8727],\n",
            "        [100.2023],\n",
            "        [ 46.5745],\n",
            "        [ 67.7718]], grad_fn=<AddBackward0>)\n"
          ]
        }
      ]
    },
    {
      "cell_type": "markdown",
      "source": [
        "# **3.6 Train for multiple epochs**"
      ],
      "metadata": {
        "id": "mzyghrs-88jI"
      }
    },
    {
      "cell_type": "code",
      "source": [
        "# Train for 100 epochs\n",
        "for i in range(100):\n",
        "    preds = model(inputs)\n",
        "    loss = mse(preds, targets)\n",
        "    loss.backward()\n",
        "    with torch.no_grad():\n",
        "        w -= w.grad * 1e-5\n",
        "        b -= b.grad * 1e-5\n",
        "        w.grad.zero_()\n",
        "        b.grad.zero_()"
      ],
      "metadata": {
        "id": "9aQ3o1JB4GM6"
      },
      "execution_count": null,
      "outputs": []
    },
    {
      "cell_type": "code",
      "source": [
        "# Calculate loss\n",
        "preds = model(inputs)\n",
        "loss = mse(preds, targets)\n",
        "print(loss)\n",
        "print(w)\n",
        "print(b)\n"
      ],
      "metadata": {
        "colab": {
          "base_uri": "https://localhost:8080/"
        },
        "id": "cg3pLQdH4JGa",
        "outputId": "4bbf278a-3ab0-444c-c42c-0ae7fdd88a2b"
      },
      "execution_count": null,
      "outputs": [
        {
          "output_type": "stream",
          "name": "stdout",
          "text": [
            "tensor(186.5546, grad_fn=<DivBackward0>)\n",
            "tensor([[-0.0124],\n",
            "        [ 0.8522],\n",
            "        [ 0.1686]], requires_grad=True)\n",
            "tensor([-0.2575], requires_grad=True)\n"
          ]
        }
      ]
    },
    {
      "cell_type": "code",
      "source": [
        "# Predictions\n",
        "preds"
      ],
      "metadata": {
        "colab": {
          "base_uri": "https://localhost:8080/"
        },
        "id": "QqwtMnc44MwK",
        "outputId": "23a05c7f-641e-43ad-9909-0280554f8793"
      },
      "execution_count": null,
      "outputs": [
        {
          "output_type": "execute_result",
          "data": {
            "text/plain": [
              "tensor([[ 35.4368],\n",
              "        [ 84.3985],\n",
              "        [122.6377],\n",
              "        [ 41.3620],\n",
              "        [ 92.4997]], grad_fn=<AddBackward0>)"
            ]
          },
          "metadata": {},
          "execution_count": 190
        }
      ]
    },
    {
      "cell_type": "code",
      "source": [
        "# Targets\n",
        "targets"
      ],
      "metadata": {
        "colab": {
          "base_uri": "https://localhost:8080/"
        },
        "id": "aGCNlBav4QRy",
        "outputId": "c3867e79-632d-4542-e6e3-730bbfe4f77f"
      },
      "execution_count": null,
      "outputs": [
        {
          "output_type": "execute_result",
          "data": {
            "text/plain": [
              "tensor([[ 56.],\n",
              "        [ 81.],\n",
              "        [119.],\n",
              "        [ 22.],\n",
              "        [103.]])"
            ]
          },
          "metadata": {},
          "execution_count": 187
        }
      ]
    },
    {
      "cell_type": "markdown",
      "source": [
        "# **Exercise **"
      ],
      "metadata": {
        "id": "Q_E8oN6AD3D4"
      }
    },
    {
      "cell_type": "code",
      "source": [
        "import numpy as np\n",
        "import torch\n",
        "import torch.nn as nn\n",
        "from torch.utils.data import TensorDataset, DataLoader\n",
        "from torchvision.models import resnet18 as model\n",
        "\n",
        "inputs = np.array(\n",
        "    [[73, 67, 43],\n",
        "    [91, 88, 64],\n",
        "    [87, 134, 58],\n",
        "    [102, 43, 37],\n",
        "    [69, 96, 70]], \n",
        "  dtype='float32')\n",
        "\n",
        "targets = np.array([[56.],[81.],[119.],[22.],[103.]])\n",
        "\n",
        "\n",
        "w=[[1.],[1.],[1.]]\n",
        "b=[[2.],[2.],[2.],[2.],[2.]]\n",
        "\n",
        "# learningRate=0.1\n",
        "# 0.0001 -> output 0.51404101946832146\n",
        "learningRate=0.0000001\n",
        "\n",
        "iterations=1000\n",
        "\n",
        "m=len(inputs)*1.0\n",
        "\n",
        "weights=torch.tensor(w, requires_grad=True)\n",
        "bias=torch.tensor(b, requires_grad=True)\n",
        "\n",
        "\n",
        "finalLoss=0.0\n",
        "\n",
        "for _ in range(iterations):\n",
        "  weights=torch.tensor(weights,requires_grad=True)\n",
        "  bias=torch.tensor(bias,requires_grad=True)\n",
        "\n",
        "  inputs1=torch.tensor(inputs,requires_grad=False)\n",
        "  y1=torch.tensor(targets)\n",
        "  \n",
        "  hypo=torch.matmul(inputs1,weights)+bias\n",
        "  loss=((hypo-y1)**2)\n",
        "  \n",
        "  myloss=0.0\n",
        "\n",
        "  for row in loss:\n",
        "    myloss+=row[0]\n",
        "  myloss/=2*m\n",
        "  myloss.backward()\n",
        "  # print(\"myloss : \",myloss)\n",
        "  \n",
        "  weights=weights-((weights.grad)*learningRate)\n",
        "  bias=bias-((bias.grad)*learningRate)\n",
        "\n",
        "  finalLoss=myloss.item()\n",
        "print(\"finalLoss : \",finalLoss)\n",
        "print(\"weights : \",weights)\n",
        "print(\"bias : \",bias)\n"
      ],
      "metadata": {
        "colab": {
          "base_uri": "https://localhost:8080/"
        },
        "id": "KnBxczbcD5sY",
        "outputId": "5aa9c2d4-e317-4661-cdaa-8de20eb3be9a"
      },
      "execution_count": 1,
      "outputs": [
        {
          "output_type": "stream",
          "name": "stderr",
          "text": [
            "<ipython-input-1-cbaec189b95b>:36: UserWarning: To copy construct from a tensor, it is recommended to use sourceTensor.clone().detach() or sourceTensor.clone().detach().requires_grad_(True), rather than torch.tensor(sourceTensor).\n",
            "  weights=torch.tensor(weights,requires_grad=True)\n",
            "<ipython-input-1-cbaec189b95b>:37: UserWarning: To copy construct from a tensor, it is recommended to use sourceTensor.clone().detach() or sourceTensor.clone().detach().requires_grad_(True), rather than torch.tensor(sourceTensor).\n",
            "  bias=torch.tensor(bias,requires_grad=True)\n"
          ]
        },
        {
          "output_type": "stream",
          "name": "stdout",
          "text": [
            "finalLoss :  557.7165998312354\n",
            "weights :  tensor([[0.3797],\n",
            "        [0.4181],\n",
            "        [0.6227]], grad_fn=<SubBackward0>)\n",
            "bias :  tensor([[1.9987],\n",
            "        [1.9984],\n",
            "        [1.9987],\n",
            "        [1.9981],\n",
            "        [1.9989]], grad_fn=<SubBackward0>)\n"
          ]
        }
      ]
    }
  ]
}
