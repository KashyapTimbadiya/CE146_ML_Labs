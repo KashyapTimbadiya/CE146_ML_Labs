{
  "nbformat": 4,
  "nbformat_minor": 0,
  "metadata": {
    "colab": {
      "provenance": [],
      "authorship_tag": "ABX9TyMuU6s5LIekMw/m+PyvKF2C",
      "include_colab_link": true
    },
    "kernelspec": {
      "name": "python3",
      "display_name": "Python 3"
    },
    "language_info": {
      "name": "python"
    }
  },
  "cells": [
    {
      "cell_type": "markdown",
      "metadata": {
        "id": "view-in-github",
        "colab_type": "text"
      },
      "source": [
        "<a href=\"https://colab.research.google.com/github/KashyapTimbadiya/CE146_ML_Labs/blob/main/ML_Lab11.ipynb\" target=\"_parent\"><img src=\"https://colab.research.google.com/assets/colab-badge.svg\" alt=\"Open In Colab\"/></a>"
      ]
    },
    {
      "cell_type": "code",
      "execution_count": 2,
      "metadata": {
        "colab": {
          "base_uri": "https://localhost:8080/"
        },
        "id": "LBBOaE5kQU6i",
        "outputId": "8067c8d1-5391-4030-99ee-51e6c09f6d52"
      },
      "outputs": [
        {
          "output_type": "stream",
          "name": "stdout",
          "text": [
            "[[1007    0]\n",
            " [   0  993]]\n",
            "accuracy 1.0\n",
            "precision 1.0\n",
            "recall 1.0\n"
          ]
        }
      ],
      "source": [
        "#To perform linear svm on make blob dataset\n",
        "#A) C = 2\n",
        "import sys, os\n",
        "import matplotlib.pyplot as plt\n",
        "from sklearn import svm\n",
        "from sklearn.model_selection import train_test_split\n",
        "import numpy as np\n",
        "\n",
        "from sklearn.datasets import make_blobs\n",
        "from sklearn.svm import SVC\n",
        "from sklearn.model_selection import train_test_split\n",
        "from sklearn.metrics import accuracy_score,confusion_matrix,precision_score,recall_score\n",
        "\n",
        "def measures(y_true,y_pred):\n",
        "  print(confusion_matrix(y_true,y_pred))\n",
        "  return {\n",
        "      \"accuracy\":accuracy_score(y_test,y_pred),\n",
        "      \"precision\":precision_score(y_test,y_pred,average='micro'),\n",
        "      \"recall\":recall_score(y_test,y_pred,average='micro')\n",
        "  }\n",
        "  pass\n",
        "\n",
        "X,y=make_blobs(n_samples=10000,centers=2,n_features=4)\n",
        "X_train,X_test,y_train,y_test=train_test_split(X,y,test_size=0.2,random_state=146)\n",
        "model=SVC(C=2).fit(X_train,y_train)\n",
        "y_pred=model.predict(X_test)\n",
        "\n",
        "metrics=measures(y_test,y_pred)\n",
        "\n",
        "for metric in metrics:\n",
        "  print(metric,metrics[metric])\n",
        "\n"
      ]
    },
    {
      "cell_type": "code",
      "source": [
        "#To perform linear svm on make blob dataset\n",
        "#A) C = 300\n",
        "from sklearn.datasets import make_blobs\n",
        "from sklearn.svm import SVC\n",
        "from sklearn.model_selection import train_test_split\n",
        "from sklearn.metrics import accuracy_score,confusion_matrix,precision_score,recall_score\n",
        "\n",
        "def measures(y_true,y_pred):\n",
        "  print(confusion_matrix(y_true,y_pred))\n",
        "  return {\n",
        "      \"accuracy\":accuracy_score(y_test,y_pred),\n",
        "      \"precision\":precision_score(y_test,y_pred,average='micro'),\n",
        "      \"recall\":recall_score(y_test,y_pred,average='micro')\n",
        "  }\n",
        "  pass\n",
        "\n",
        "X,y=make_blobs(n_samples=10000,centers=2,n_features=4)\n",
        "X_train,X_test,y_train,y_test=train_test_split(X,y,test_size=0.2,random_state=146)\n",
        "model=SVC(C=300).fit(X_train,y_train)\n",
        "y_pred=model.predict(X_test)\n",
        "\n",
        "metrics=measures(y_test,y_pred)\n",
        "\n",
        "for metric in metrics:\n",
        "  print(metric,metrics[metric])\n"
      ],
      "metadata": {
        "colab": {
          "base_uri": "https://localhost:8080/"
        },
        "id": "YbF3E8VOTJre",
        "outputId": "d4deb8f6-9cfd-4bec-9580-b8fe398c71d8"
      },
      "execution_count": 3,
      "outputs": [
        {
          "output_type": "stream",
          "name": "stdout",
          "text": [
            "[[1003    0]\n",
            " [   0  997]]\n",
            "accuracy 1.0\n",
            "precision 1.0\n",
            "recall 1.0\n"
          ]
        }
      ]
    },
    {
      "cell_type": "code",
      "source": [
        "#To use linear svm on breast cancer dataset\n",
        "#A) c=2\n",
        "from sklearn.datasets import load_breast_cancer\n",
        "from sklearn.svm import SVC\n",
        "from sklearn.model_selection import train_test_split\n",
        "from sklearn.metrics import accuracy_score,confusion_matrix\n",
        "\n",
        "def measures(y_true,y_pred):\n",
        "  cmat=confusion_matrix(y_true=y_test,y_pred=y_pred)\n",
        "  tn, fp, fn, tp=cmat.ravel()\n",
        "  print(\"tn : \",tn,\" , fp : \",fp,\" , fn : \",fn,\" , tp : \",tp)\n",
        "  return {\n",
        "      \"accuracy\":(tn+tp)/(tn+fp+fn+tp),\n",
        "      \"precision\":(tp)/(fp+tp),\n",
        "      \"recall\":(tp)/(fn+tp)\n",
        "  }\n",
        "  pass\n",
        "\n",
        "ds=load_breast_cancer()\n",
        "X=ds.data\n",
        "y=ds.target\n",
        "X_train,X_test,y_train,y_test=train_test_split(X,y,test_size=0.2,random_state=155)\n",
        "# model=SVC(kernel=\"linear\",C=2).fit(X_train,y_train)\n",
        "\n",
        "# tn :  30  , fp :  5  , fn :  2  , tp :  77\n",
        "# accuracy 0.9385964912280702\n",
        "# precision 0.9390243902439024\n",
        "# recall 0.9746835443037974\n",
        "\n",
        "\n",
        "# model=SVC(kernel=\"rbf\",C=2).fit(X_train,y_train)\n",
        "# tn :  28  , fp :  7  , fn :  2  , tp :  77\n",
        "# accuracy 0.9210526315789473\n",
        "# precision 0.9166666666666666\n",
        "# recall 0.9746835443037974\n",
        "\n",
        "model=SVC(kernel=\"poly\",C=2).fit(X_train,y_train)\n",
        "\n",
        "# tn :  27  , fp :  8  , fn :  3  , tp :  76\n",
        "# accuracy 0.9035087719298246\n",
        "# precision 0.9047619047619048\n",
        "# recall 0.9620253164556962\n",
        "\n",
        "y_pred=model.predict(X_test)\n",
        "\n",
        "metrics=measures(y_test,y_pred)\n",
        "\n",
        "for metric in metrics:\n",
        "  print(metric,metrics[metric])\n",
        "\n"
      ],
      "metadata": {
        "colab": {
          "base_uri": "https://localhost:8080/"
        },
        "id": "m_g7QlcOTZ8e",
        "outputId": "5929e30e-9920-4b2b-8be5-9ef3a9112e89"
      },
      "execution_count": 4,
      "outputs": [
        {
          "output_type": "stream",
          "name": "stdout",
          "text": [
            "tn :  27  , fp :  8  , fn :  3  , tp :  76\n",
            "accuracy 0.9035087719298246\n",
            "precision 0.9047619047619048\n",
            "recall 0.9620253164556962\n"
          ]
        }
      ]
    },
    {
      "cell_type": "code",
      "source": [
        "#To use linear svm on breast cancer dataset\n",
        "#A) c=300\n",
        "from sklearn.datasets import load_breast_cancer\n",
        "from sklearn.svm import SVC\n",
        "from sklearn.model_selection import train_test_split\n",
        "from sklearn.metrics import accuracy_score,confusion_matrix\n",
        "\n",
        "def measures(y_true,y_pred):\n",
        "  cmat=confusion_matrix(y_true=y_test,y_pred=y_pred)\n",
        "  tn, fp, fn, tp=cmat.ravel()\n",
        "  print(\"tn : \",tn,\" , fp : \",fp,\" , fn : \",fn,\" , tp : \",tp)\n",
        "  return {\n",
        "      \"accuracy\":(tn+tp)/(tn+fp+fn+tp),\n",
        "      \"precision\":(tp)/(fp+tp),\n",
        "      \"recall\":(tp)/(fn+tp)\n",
        "  }\n",
        "  pass\n",
        "\n",
        "ds=load_breast_cancer()\n",
        "X=ds.data\n",
        "y=ds.target\n",
        "X_train,X_test,y_train,y_test=train_test_split(X,y,test_size=0.2,random_state=155)\n",
        "\n",
        "# model=SVC(kernel=\"linear\",C=300).fit(X_train,y_train)\n",
        "\n",
        "# tn :  29  , fp :  6  , fn :  2  , tp :  77\n",
        "# accuracy 0.9298245614035088\n",
        "# precision 0.927710843373494\n",
        "# recall 0.9746835443037974\n",
        "\n",
        "\n",
        "# model=SVC(kernel=\"rbf\",C=300).fit(X_train,y_train)\n",
        "\n",
        "# tn :  30  , fp :  5  , fn :  3  , tp :  76\n",
        "# accuracy 0.9298245614035088\n",
        "# precision 0.9382716049382716\n",
        "# recall 0.9620253164556962\n",
        "\n",
        "\n",
        "model=SVC(kernel=\"poly\",C=300).fit(X_train,y_train)\n",
        "\n",
        "# tn :  28  , fp :  7  , fn :  3  , tp :  76\n",
        "# accuracy 0.9122807017543859\n",
        "# precision 0.9156626506024096\n",
        "# recall 0.9620253164556962\n",
        "\n",
        "\n",
        "y_pred=model.predict(X_test)\n",
        "\n",
        "metrics=measures(y_test,y_pred)\n",
        "\n",
        "for metric in metrics:\n",
        "  print(metric,metrics[metric])\n",
        "\n"
      ],
      "metadata": {
        "colab": {
          "base_uri": "https://localhost:8080/"
        },
        "id": "Mf6JpPm2Tcme",
        "outputId": "55f625f3-70be-4a5d-90da-5ada74666143"
      },
      "execution_count": 6,
      "outputs": [
        {
          "output_type": "stream",
          "name": "stdout",
          "text": [
            "tn :  28  , fp :  7  , fn :  3  , tp :  76\n",
            "accuracy 0.9122807017543859\n",
            "precision 0.9156626506024096\n",
            "recall 0.9620253164556962\n"
          ]
        }
      ]
    },
    {
      "cell_type": "code",
      "source": [
        "from sklearn.datasets import load_breast_cancer\n",
        "from sklearn.svm import SVC\n",
        "from sklearn.model_selection import train_test_split\n",
        "from sklearn.metrics import accuracy_score,confusion_matrix\n",
        "\n",
        "def measures(y_true,y_pred):\n",
        "  cmat=confusion_matrix(y_true=y_test,y_pred=y_pred)\n",
        "  tn, fp, fn, tp=cmat.ravel()\n",
        "  print(\"tn : \",tn,\" , fp : \",fp,\" , fn : \",fn,\" , tp : \",tp)\n",
        "  return {\n",
        "      \"accuracy\":(tn+tp)/(tn+fp+fn+tp),\n",
        "      \"precision\":(tp)/(fp+tp),\n",
        "      \"recall\":(tp)/(fn+tp)\n",
        "  }\n",
        "  pass\n",
        "\n",
        "ds=load_breast_cancer()\n",
        "X=ds.data\n",
        "y=ds.target\n",
        "X_train,X_test,y_train,y_test=train_test_split(X,y,test_size=0.2,random_state=146)\n",
        "\n",
        "# model=SVC(kernel=\"linear\",C=300).fit(X_train,y_train)\n",
        "\n",
        "# tn :  29  , fp :  6  , fn :  2  , tp :  77\n",
        "# accuracy 0.9298245614035088\n",
        "# precision 0.927710843373494\n",
        "# recall 0.9746835443037974\n",
        "\n",
        "\n",
        "# model=SVC(kernel=\"rbf\",C=300).fit(X_train,y_train)\n",
        "\n",
        "# tn :  30  , fp :  5  , fn :  3  , tp :  76\n",
        "# accuracy 0.9298245614035088\n",
        "# precision 0.9382716049382716\n",
        "# recall 0.9620253164556962\n",
        "\n",
        "\n",
        "model=SVC(kernel=\"poly\",C=300).fit(X_train,y_train)\n",
        "\n",
        "# tn :  28  , fp :  7  , fn :  3  , tp :  76\n",
        "# accuracy 0.9122807017543859\n",
        "# precision 0.9156626506024096\n",
        "# recall 0.9620253164556962\n",
        "\n",
        "\n",
        "y_pred=model.predict(X_test)\n",
        "\n",
        "metrics=measures(y_test,y_pred)\n",
        "\n",
        "for metric in metrics:\n",
        "  print(metric,metrics[metric])\n",
        "\n"
      ],
      "metadata": {
        "colab": {
          "base_uri": "https://localhost:8080/"
        },
        "id": "uWWsk5gdgMY7",
        "outputId": "22870d8d-54be-4bc9-9395-0d165f395e3b"
      },
      "execution_count": 1,
      "outputs": [
        {
          "output_type": "stream",
          "name": "stdout",
          "text": [
            "tn :  36  , fp :  8  , fn :  0  , tp :  70\n",
            "accuracy 0.9298245614035088\n",
            "precision 0.8974358974358975\n",
            "recall 1.0\n"
          ]
        }
      ]
    },
    {
      "cell_type": "code",
      "source": [
        "#Exersice\n",
        "from sklearn.datasets import load_digits\n",
        "from sklearn.svm import SVC\n",
        "from sklearn.model_selection import train_test_split\n",
        "from sklearn.metrics import accuracy_score,confusion_matrix,precision_score,recall_score\n",
        "\n",
        "def measures(y_true,y_pred):\n",
        "  return {\n",
        "      \"accuracy\":accuracy_score(y_test,y_pred),\n",
        "      \"precision\":precision_score(y_test,y_pred,average='micro'),\n",
        "      \"recall\":recall_score(y_test,y_pred,average='micro')\n",
        "  }\n",
        "  pass\n",
        "\n",
        "ds=load_digits()\n",
        "X=ds.data\n",
        "y=ds.target\n",
        "X_train,X_test,y_train,y_test=train_test_split(X,y,test_size=0.2,random_state=155)\n",
        "# model=SVC(C=1,kernel=\"linear\").fit(X_train,y_train)\n",
        "# model=SVC(C=1,kernel=\"rbf\").fit(X_train,y_train)\n",
        "model=SVC(C=1,kernel=\"poly\").fit(X_train,y_train)\n",
        "\n",
        "y_pred=model.predict(X_test)\n",
        "\n",
        "metrics=measures(y_test,y_pred)\n",
        "\n",
        "for metric in metrics:\n",
        "  print(metric,metrics[metric])\n",
        "\n"
      ],
      "metadata": {
        "colab": {
          "base_uri": "https://localhost:8080/"
        },
        "id": "ERevc_Y583Ak",
        "outputId": "b95cb86b-5f6e-4731-a9c7-a529739f5107"
      },
      "execution_count": 8,
      "outputs": [
        {
          "output_type": "stream",
          "name": "stdout",
          "text": [
            "accuracy 0.9944444444444445\n",
            "precision 0.9944444444444445\n",
            "recall 0.9944444444444445\n"
          ]
        }
      ]
    }
  ]
}